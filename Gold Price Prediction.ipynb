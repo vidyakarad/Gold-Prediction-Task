{
 "cells": [
  {
   "cell_type": "markdown",
   "id": "f60705dd",
   "metadata": {},
   "source": [
    "# Gold Price Prediction"
   ]
  },
  {
   "cell_type": "markdown",
   "id": "baab87cc",
   "metadata": {},
   "source": [
    "# Import Libraries"
   ]
  },
  {
   "cell_type": "code",
   "execution_count": 142,
   "id": "c343ad74",
   "metadata": {},
   "outputs": [],
   "source": [
    "import pandas as pd\n",
    "import numpy as np"
   ]
  },
  {
   "cell_type": "code",
   "execution_count": 143,
   "id": "12681f1f",
   "metadata": {},
   "outputs": [],
   "source": [
    "import matplotlib.pyplot as plt\n",
    "from sklearn.model_selection import train_test_split\n",
    "from sklearn.linear_model import LinearRegression\n",
    "from sklearn import metrics"
   ]
  },
  {
   "cell_type": "markdown",
   "id": "fc378248",
   "metadata": {},
   "source": [
    "# Task 1: Initial Data Exploration"
   ]
  },
  {
   "cell_type": "code",
   "execution_count": 144,
   "id": "6a4aa841",
   "metadata": {},
   "outputs": [],
   "source": [
    "gold_data = pd.read_csv(\"gold_price.csv\")"
   ]
  },
  {
   "cell_type": "code",
   "execution_count": 145,
   "id": "751e5750",
   "metadata": {},
   "outputs": [
    {
     "data": {
      "text/html": [
       "<div>\n",
       "<style scoped>\n",
       "    .dataframe tbody tr th:only-of-type {\n",
       "        vertical-align: middle;\n",
       "    }\n",
       "\n",
       "    .dataframe tbody tr th {\n",
       "        vertical-align: top;\n",
       "    }\n",
       "\n",
       "    .dataframe thead th {\n",
       "        text-align: right;\n",
       "    }\n",
       "</style>\n",
       "<table border=\"1\" class=\"dataframe\">\n",
       "  <thead>\n",
       "    <tr style=\"text-align: right;\">\n",
       "      <th></th>\n",
       "      <th>Date</th>\n",
       "      <th>USD (AM)</th>\n",
       "      <th>USD (PM)</th>\n",
       "      <th>GBP (AM)</th>\n",
       "      <th>GBP (PM)</th>\n",
       "      <th>EURO (AM)</th>\n",
       "      <th>EURO (PM)</th>\n",
       "    </tr>\n",
       "  </thead>\n",
       "  <tbody>\n",
       "    <tr>\n",
       "      <th>0</th>\n",
       "      <td>2001-01-02</td>\n",
       "      <td>272.80</td>\n",
       "      <td>271.10</td>\n",
       "      <td>183.026</td>\n",
       "      <td>181.617</td>\n",
       "      <td>288.677</td>\n",
       "      <td>287.334</td>\n",
       "    </tr>\n",
       "    <tr>\n",
       "      <th>1</th>\n",
       "      <td>2001-01-03</td>\n",
       "      <td>269.00</td>\n",
       "      <td>267.15</td>\n",
       "      <td>178.916</td>\n",
       "      <td>177.390</td>\n",
       "      <td>281.823</td>\n",
       "      <td>281.655</td>\n",
       "    </tr>\n",
       "    <tr>\n",
       "      <th>2</th>\n",
       "      <td>2001-01-04</td>\n",
       "      <td>268.75</td>\n",
       "      <td>267.10</td>\n",
       "      <td>178.869</td>\n",
       "      <td>178.352</td>\n",
       "      <td>282.538</td>\n",
       "      <td>282.049</td>\n",
       "    </tr>\n",
       "    <tr>\n",
       "      <th>3</th>\n",
       "      <td>2001-01-05</td>\n",
       "      <td>268.00</td>\n",
       "      <td>267.40</td>\n",
       "      <td>178.488</td>\n",
       "      <td>178.148</td>\n",
       "      <td>280.775</td>\n",
       "      <td>280.882</td>\n",
       "    </tr>\n",
       "    <tr>\n",
       "      <th>4</th>\n",
       "      <td>2001-01-08</td>\n",
       "      <td>268.60</td>\n",
       "      <td>268.30</td>\n",
       "      <td>178.769</td>\n",
       "      <td>178.664</td>\n",
       "      <td>282.410</td>\n",
       "      <td>282.481</td>\n",
       "    </tr>\n",
       "  </tbody>\n",
       "</table>\n",
       "</div>"
      ],
      "text/plain": [
       "         Date  USD (AM)  USD (PM)  GBP (AM)  GBP (PM)  EURO (AM)  EURO (PM)\n",
       "0  2001-01-02    272.80    271.10   183.026   181.617    288.677    287.334\n",
       "1  2001-01-03    269.00    267.15   178.916   177.390    281.823    281.655\n",
       "2  2001-01-04    268.75    267.10   178.869   178.352    282.538    282.049\n",
       "3  2001-01-05    268.00    267.40   178.488   178.148    280.775    280.882\n",
       "4  2001-01-08    268.60    268.30   178.769   178.664    282.410    282.481"
      ]
     },
     "execution_count": 145,
     "metadata": {},
     "output_type": "execute_result"
    }
   ],
   "source": [
    "gold_data.head()"
   ]
  },
  {
   "cell_type": "code",
   "execution_count": 146,
   "id": "8f6b381c",
   "metadata": {},
   "outputs": [
    {
     "data": {
      "text/plain": [
       "Date          0\n",
       "USD (AM)      0\n",
       "USD (PM)     36\n",
       "GBP (AM)      0\n",
       "GBP (PM)     36\n",
       "EURO (AM)     0\n",
       "EURO (PM)    36\n",
       "dtype: int64"
      ]
     },
     "execution_count": 146,
     "metadata": {},
     "output_type": "execute_result"
    }
   ],
   "source": [
    "gold_data.isnull().sum()"
   ]
  },
  {
   "cell_type": "code",
   "execution_count": 147,
   "id": "1c87fa6a",
   "metadata": {},
   "outputs": [],
   "source": [
    "gold_data.dropna(inplace=True)"
   ]
  },
  {
   "cell_type": "code",
   "execution_count": 148,
   "id": "52ee60a9",
   "metadata": {},
   "outputs": [
    {
     "data": {
      "text/plain": [
       "Date         0\n",
       "USD (AM)     0\n",
       "USD (PM)     0\n",
       "GBP (AM)     0\n",
       "GBP (PM)     0\n",
       "EURO (AM)    0\n",
       "EURO (PM)    0\n",
       "dtype: int64"
      ]
     },
     "execution_count": 148,
     "metadata": {},
     "output_type": "execute_result"
    }
   ],
   "source": [
    "gold_data.isnull().sum()"
   ]
  },
  {
   "cell_type": "markdown",
   "id": "2fdb17da",
   "metadata": {},
   "source": [
    "# Task 2: Create Train & Test Sets"
   ]
  },
  {
   "cell_type": "code",
   "execution_count": 149,
   "id": "33009d7d",
   "metadata": {},
   "outputs": [],
   "source": [
    "gold_data = gold_data.drop(['Date', 'GBP (AM)'], axis =1)"
   ]
  },
  {
   "cell_type": "code",
   "execution_count": 150,
   "id": "921344fb",
   "metadata": {},
   "outputs": [],
   "source": [
    "df = pd.DataFrame(gold_data)"
   ]
  },
  {
   "cell_type": "code",
   "execution_count": 151,
   "id": "f84e41c5",
   "metadata": {},
   "outputs": [
    {
     "data": {
      "text/html": [
       "<div>\n",
       "<style scoped>\n",
       "    .dataframe tbody tr th:only-of-type {\n",
       "        vertical-align: middle;\n",
       "    }\n",
       "\n",
       "    .dataframe tbody tr th {\n",
       "        vertical-align: top;\n",
       "    }\n",
       "\n",
       "    .dataframe thead th {\n",
       "        text-align: right;\n",
       "    }\n",
       "</style>\n",
       "<table border=\"1\" class=\"dataframe\">\n",
       "  <thead>\n",
       "    <tr style=\"text-align: right;\">\n",
       "      <th></th>\n",
       "      <th>USD (AM)</th>\n",
       "      <th>USD (PM)</th>\n",
       "      <th>GBP (PM)</th>\n",
       "      <th>EURO (AM)</th>\n",
       "      <th>EURO (PM)</th>\n",
       "    </tr>\n",
       "  </thead>\n",
       "  <tbody>\n",
       "    <tr>\n",
       "      <th>0</th>\n",
       "      <td>272.80</td>\n",
       "      <td>271.10</td>\n",
       "      <td>181.617</td>\n",
       "      <td>288.677</td>\n",
       "      <td>287.334</td>\n",
       "    </tr>\n",
       "    <tr>\n",
       "      <th>1</th>\n",
       "      <td>269.00</td>\n",
       "      <td>267.15</td>\n",
       "      <td>177.390</td>\n",
       "      <td>281.823</td>\n",
       "      <td>281.655</td>\n",
       "    </tr>\n",
       "    <tr>\n",
       "      <th>2</th>\n",
       "      <td>268.75</td>\n",
       "      <td>267.10</td>\n",
       "      <td>178.352</td>\n",
       "      <td>282.538</td>\n",
       "      <td>282.049</td>\n",
       "    </tr>\n",
       "    <tr>\n",
       "      <th>3</th>\n",
       "      <td>268.00</td>\n",
       "      <td>267.40</td>\n",
       "      <td>178.148</td>\n",
       "      <td>280.775</td>\n",
       "      <td>280.882</td>\n",
       "    </tr>\n",
       "    <tr>\n",
       "      <th>4</th>\n",
       "      <td>268.60</td>\n",
       "      <td>268.30</td>\n",
       "      <td>178.664</td>\n",
       "      <td>282.410</td>\n",
       "      <td>282.481</td>\n",
       "    </tr>\n",
       "    <tr>\n",
       "      <th>...</th>\n",
       "      <td>...</td>\n",
       "      <td>...</td>\n",
       "      <td>...</td>\n",
       "      <td>...</td>\n",
       "      <td>...</td>\n",
       "    </tr>\n",
       "    <tr>\n",
       "      <th>4713</th>\n",
       "      <td>1531.85</td>\n",
       "      <td>1532.95</td>\n",
       "      <td>1247.510</td>\n",
       "      <td>1378.970</td>\n",
       "      <td>1380.880</td>\n",
       "    </tr>\n",
       "    <tr>\n",
       "      <th>4714</th>\n",
       "      <td>1541.75</td>\n",
       "      <td>1537.15</td>\n",
       "      <td>1258.770</td>\n",
       "      <td>1389.890</td>\n",
       "      <td>1387.430</td>\n",
       "    </tr>\n",
       "    <tr>\n",
       "      <th>4715</th>\n",
       "      <td>1536.65</td>\n",
       "      <td>1540.20</td>\n",
       "      <td>1262.960</td>\n",
       "      <td>1387.290</td>\n",
       "      <td>1392.030</td>\n",
       "    </tr>\n",
       "    <tr>\n",
       "      <th>4716</th>\n",
       "      <td>1526.55</td>\n",
       "      <td>1528.40</td>\n",
       "      <td>1251.150</td>\n",
       "      <td>1382.750</td>\n",
       "      <td>1383.510</td>\n",
       "    </tr>\n",
       "    <tr>\n",
       "      <th>4717</th>\n",
       "      <td>1523.35</td>\n",
       "      <td>1525.95</td>\n",
       "      <td>1265.010</td>\n",
       "      <td>1388.690</td>\n",
       "      <td>1391.510</td>\n",
       "    </tr>\n",
       "  </tbody>\n",
       "</table>\n",
       "<p>4682 rows × 5 columns</p>\n",
       "</div>"
      ],
      "text/plain": [
       "      USD (AM)  USD (PM)  GBP (PM)  EURO (AM)  EURO (PM)\n",
       "0       272.80    271.10   181.617    288.677    287.334\n",
       "1       269.00    267.15   177.390    281.823    281.655\n",
       "2       268.75    267.10   178.352    282.538    282.049\n",
       "3       268.00    267.40   178.148    280.775    280.882\n",
       "4       268.60    268.30   178.664    282.410    282.481\n",
       "...        ...       ...       ...        ...        ...\n",
       "4713   1531.85   1532.95  1247.510   1378.970   1380.880\n",
       "4714   1541.75   1537.15  1258.770   1389.890   1387.430\n",
       "4715   1536.65   1540.20  1262.960   1387.290   1392.030\n",
       "4716   1526.55   1528.40  1251.150   1382.750   1383.510\n",
       "4717   1523.35   1525.95  1265.010   1388.690   1391.510\n",
       "\n",
       "[4682 rows x 5 columns]"
      ]
     },
     "execution_count": 151,
     "metadata": {},
     "output_type": "execute_result"
    }
   ],
   "source": [
    "df"
   ]
  },
  {
   "cell_type": "code",
   "execution_count": 152,
   "id": "c1fb64d5",
   "metadata": {},
   "outputs": [
    {
     "data": {
      "text/html": [
       "<div>\n",
       "<style scoped>\n",
       "    .dataframe tbody tr th:only-of-type {\n",
       "        vertical-align: middle;\n",
       "    }\n",
       "\n",
       "    .dataframe tbody tr th {\n",
       "        vertical-align: top;\n",
       "    }\n",
       "\n",
       "    .dataframe thead th {\n",
       "        text-align: right;\n",
       "    }\n",
       "</style>\n",
       "<table border=\"1\" class=\"dataframe\">\n",
       "  <thead>\n",
       "    <tr style=\"text-align: right;\">\n",
       "      <th></th>\n",
       "      <th>USD (AM)</th>\n",
       "      <th>USD (PM)</th>\n",
       "      <th>GBP (PM)</th>\n",
       "      <th>EURO (AM)</th>\n",
       "      <th>EURO (PM)</th>\n",
       "    </tr>\n",
       "  </thead>\n",
       "  <tbody>\n",
       "    <tr>\n",
       "      <th>0</th>\n",
       "      <td>NaN</td>\n",
       "      <td>-0.006232</td>\n",
       "      <td>-0.330074</td>\n",
       "      <td>0.589482</td>\n",
       "      <td>-0.004652</td>\n",
       "    </tr>\n",
       "    <tr>\n",
       "      <th>1</th>\n",
       "      <td>NaN</td>\n",
       "      <td>-0.006877</td>\n",
       "      <td>-0.335991</td>\n",
       "      <td>0.588720</td>\n",
       "      <td>-0.000596</td>\n",
       "    </tr>\n",
       "    <tr>\n",
       "      <th>2</th>\n",
       "      <td>NaN</td>\n",
       "      <td>-0.006140</td>\n",
       "      <td>-0.332265</td>\n",
       "      <td>0.584159</td>\n",
       "      <td>-0.001731</td>\n",
       "    </tr>\n",
       "    <tr>\n",
       "      <th>3</th>\n",
       "      <td>NaN</td>\n",
       "      <td>-0.002239</td>\n",
       "      <td>-0.333777</td>\n",
       "      <td>0.576077</td>\n",
       "      <td>0.000381</td>\n",
       "    </tr>\n",
       "    <tr>\n",
       "      <th>4</th>\n",
       "      <td>NaN</td>\n",
       "      <td>-0.001117</td>\n",
       "      <td>-0.334089</td>\n",
       "      <td>0.580677</td>\n",
       "      <td>0.000251</td>\n",
       "    </tr>\n",
       "    <tr>\n",
       "      <th>...</th>\n",
       "      <td>...</td>\n",
       "      <td>...</td>\n",
       "      <td>...</td>\n",
       "      <td>...</td>\n",
       "      <td>...</td>\n",
       "    </tr>\n",
       "    <tr>\n",
       "      <th>4713</th>\n",
       "      <td>NaN</td>\n",
       "      <td>0.000718</td>\n",
       "      <td>-0.186203</td>\n",
       "      <td>0.105378</td>\n",
       "      <td>0.001385</td>\n",
       "    </tr>\n",
       "    <tr>\n",
       "      <th>4714</th>\n",
       "      <td>NaN</td>\n",
       "      <td>-0.002984</td>\n",
       "      <td>-0.181101</td>\n",
       "      <td>0.104165</td>\n",
       "      <td>-0.001770</td>\n",
       "    </tr>\n",
       "    <tr>\n",
       "      <th>4715</th>\n",
       "      <td>NaN</td>\n",
       "      <td>0.002310</td>\n",
       "      <td>-0.180003</td>\n",
       "      <td>0.098443</td>\n",
       "      <td>0.003417</td>\n",
       "    </tr>\n",
       "    <tr>\n",
       "      <th>4716</th>\n",
       "      <td>NaN</td>\n",
       "      <td>0.001212</td>\n",
       "      <td>-0.181399</td>\n",
       "      <td>0.105183</td>\n",
       "      <td>0.000550</td>\n",
       "    </tr>\n",
       "    <tr>\n",
       "      <th>4717</th>\n",
       "      <td>NaN</td>\n",
       "      <td>0.001707</td>\n",
       "      <td>-0.171002</td>\n",
       "      <td>0.097770</td>\n",
       "      <td>0.002031</td>\n",
       "    </tr>\n",
       "  </tbody>\n",
       "</table>\n",
       "<p>4682 rows × 5 columns</p>\n",
       "</div>"
      ],
      "text/plain": [
       "      USD (AM)  USD (PM)  GBP (PM)  EURO (AM)  EURO (PM)\n",
       "0          NaN -0.006232 -0.330074   0.589482  -0.004652\n",
       "1          NaN -0.006877 -0.335991   0.588720  -0.000596\n",
       "2          NaN -0.006140 -0.332265   0.584159  -0.001731\n",
       "3          NaN -0.002239 -0.333777   0.576077   0.000381\n",
       "4          NaN -0.001117 -0.334089   0.580677   0.000251\n",
       "...        ...       ...       ...        ...        ...\n",
       "4713       NaN  0.000718 -0.186203   0.105378   0.001385\n",
       "4714       NaN -0.002984 -0.181101   0.104165  -0.001770\n",
       "4715       NaN  0.002310 -0.180003   0.098443   0.003417\n",
       "4716       NaN  0.001212 -0.181399   0.105183   0.000550\n",
       "4717       NaN  0.001707 -0.171002   0.097770   0.002031\n",
       "\n",
       "[4682 rows x 5 columns]"
      ]
     },
     "execution_count": 152,
     "metadata": {},
     "output_type": "execute_result"
    }
   ],
   "source": [
    "df.pct_change(axis = 'columns', periods = 1)"
   ]
  },
  {
   "cell_type": "code",
   "execution_count": 153,
   "id": "c6e2ce1a",
   "metadata": {},
   "outputs": [],
   "source": [
    "df['new_column'] = df['USD (PM)']*100"
   ]
  },
  {
   "cell_type": "code",
   "execution_count": 154,
   "id": "5d6ca03b",
   "metadata": {},
   "outputs": [
    {
     "data": {
      "text/html": [
       "<div>\n",
       "<style scoped>\n",
       "    .dataframe tbody tr th:only-of-type {\n",
       "        vertical-align: middle;\n",
       "    }\n",
       "\n",
       "    .dataframe tbody tr th {\n",
       "        vertical-align: top;\n",
       "    }\n",
       "\n",
       "    .dataframe thead th {\n",
       "        text-align: right;\n",
       "    }\n",
       "</style>\n",
       "<table border=\"1\" class=\"dataframe\">\n",
       "  <thead>\n",
       "    <tr style=\"text-align: right;\">\n",
       "      <th></th>\n",
       "      <th>USD (AM)</th>\n",
       "      <th>USD (PM)</th>\n",
       "      <th>GBP (PM)</th>\n",
       "      <th>EURO (AM)</th>\n",
       "      <th>EURO (PM)</th>\n",
       "      <th>new_column</th>\n",
       "    </tr>\n",
       "  </thead>\n",
       "  <tbody>\n",
       "    <tr>\n",
       "      <th>0</th>\n",
       "      <td>272.80</td>\n",
       "      <td>271.10</td>\n",
       "      <td>181.617</td>\n",
       "      <td>288.677</td>\n",
       "      <td>287.334</td>\n",
       "      <td>27110.0</td>\n",
       "    </tr>\n",
       "    <tr>\n",
       "      <th>1</th>\n",
       "      <td>269.00</td>\n",
       "      <td>267.15</td>\n",
       "      <td>177.390</td>\n",
       "      <td>281.823</td>\n",
       "      <td>281.655</td>\n",
       "      <td>26715.0</td>\n",
       "    </tr>\n",
       "    <tr>\n",
       "      <th>2</th>\n",
       "      <td>268.75</td>\n",
       "      <td>267.10</td>\n",
       "      <td>178.352</td>\n",
       "      <td>282.538</td>\n",
       "      <td>282.049</td>\n",
       "      <td>26710.0</td>\n",
       "    </tr>\n",
       "    <tr>\n",
       "      <th>3</th>\n",
       "      <td>268.00</td>\n",
       "      <td>267.40</td>\n",
       "      <td>178.148</td>\n",
       "      <td>280.775</td>\n",
       "      <td>280.882</td>\n",
       "      <td>26740.0</td>\n",
       "    </tr>\n",
       "    <tr>\n",
       "      <th>4</th>\n",
       "      <td>268.60</td>\n",
       "      <td>268.30</td>\n",
       "      <td>178.664</td>\n",
       "      <td>282.410</td>\n",
       "      <td>282.481</td>\n",
       "      <td>26830.0</td>\n",
       "    </tr>\n",
       "    <tr>\n",
       "      <th>...</th>\n",
       "      <td>...</td>\n",
       "      <td>...</td>\n",
       "      <td>...</td>\n",
       "      <td>...</td>\n",
       "      <td>...</td>\n",
       "      <td>...</td>\n",
       "    </tr>\n",
       "    <tr>\n",
       "      <th>4713</th>\n",
       "      <td>1531.85</td>\n",
       "      <td>1532.95</td>\n",
       "      <td>1247.510</td>\n",
       "      <td>1378.970</td>\n",
       "      <td>1380.880</td>\n",
       "      <td>153295.0</td>\n",
       "    </tr>\n",
       "    <tr>\n",
       "      <th>4714</th>\n",
       "      <td>1541.75</td>\n",
       "      <td>1537.15</td>\n",
       "      <td>1258.770</td>\n",
       "      <td>1389.890</td>\n",
       "      <td>1387.430</td>\n",
       "      <td>153715.0</td>\n",
       "    </tr>\n",
       "    <tr>\n",
       "      <th>4715</th>\n",
       "      <td>1536.65</td>\n",
       "      <td>1540.20</td>\n",
       "      <td>1262.960</td>\n",
       "      <td>1387.290</td>\n",
       "      <td>1392.030</td>\n",
       "      <td>154020.0</td>\n",
       "    </tr>\n",
       "    <tr>\n",
       "      <th>4716</th>\n",
       "      <td>1526.55</td>\n",
       "      <td>1528.40</td>\n",
       "      <td>1251.150</td>\n",
       "      <td>1382.750</td>\n",
       "      <td>1383.510</td>\n",
       "      <td>152840.0</td>\n",
       "    </tr>\n",
       "    <tr>\n",
       "      <th>4717</th>\n",
       "      <td>1523.35</td>\n",
       "      <td>1525.95</td>\n",
       "      <td>1265.010</td>\n",
       "      <td>1388.690</td>\n",
       "      <td>1391.510</td>\n",
       "      <td>152595.0</td>\n",
       "    </tr>\n",
       "  </tbody>\n",
       "</table>\n",
       "<p>4682 rows × 6 columns</p>\n",
       "</div>"
      ],
      "text/plain": [
       "      USD (AM)  USD (PM)  GBP (PM)  EURO (AM)  EURO (PM)  new_column\n",
       "0       272.80    271.10   181.617    288.677    287.334     27110.0\n",
       "1       269.00    267.15   177.390    281.823    281.655     26715.0\n",
       "2       268.75    267.10   178.352    282.538    282.049     26710.0\n",
       "3       268.00    267.40   178.148    280.775    280.882     26740.0\n",
       "4       268.60    268.30   178.664    282.410    282.481     26830.0\n",
       "...        ...       ...       ...        ...        ...         ...\n",
       "4713   1531.85   1532.95  1247.510   1378.970   1380.880    153295.0\n",
       "4714   1541.75   1537.15  1258.770   1389.890   1387.430    153715.0\n",
       "4715   1536.65   1540.20  1262.960   1387.290   1392.030    154020.0\n",
       "4716   1526.55   1528.40  1251.150   1382.750   1383.510    152840.0\n",
       "4717   1523.35   1525.95  1265.010   1388.690   1391.510    152595.0\n",
       "\n",
       "[4682 rows x 6 columns]"
      ]
     },
     "execution_count": 154,
     "metadata": {},
     "output_type": "execute_result"
    }
   ],
   "source": [
    "df"
   ]
  },
  {
   "cell_type": "code",
   "execution_count": 155,
   "id": "3f407685",
   "metadata": {},
   "outputs": [],
   "source": [
    "x = gold_data.drop(['new_column'],axis=1)\n",
    "y = gold_data['new_column']"
   ]
  },
  {
   "cell_type": "code",
   "execution_count": 156,
   "id": "08b57ea2",
   "metadata": {},
   "outputs": [
    {
     "data": {
      "text/html": [
       "<div>\n",
       "<style scoped>\n",
       "    .dataframe tbody tr th:only-of-type {\n",
       "        vertical-align: middle;\n",
       "    }\n",
       "\n",
       "    .dataframe tbody tr th {\n",
       "        vertical-align: top;\n",
       "    }\n",
       "\n",
       "    .dataframe thead th {\n",
       "        text-align: right;\n",
       "    }\n",
       "</style>\n",
       "<table border=\"1\" class=\"dataframe\">\n",
       "  <thead>\n",
       "    <tr style=\"text-align: right;\">\n",
       "      <th></th>\n",
       "      <th>USD (AM)</th>\n",
       "      <th>USD (PM)</th>\n",
       "      <th>GBP (PM)</th>\n",
       "      <th>EURO (AM)</th>\n",
       "      <th>EURO (PM)</th>\n",
       "    </tr>\n",
       "  </thead>\n",
       "  <tbody>\n",
       "    <tr>\n",
       "      <th>0</th>\n",
       "      <td>272.80</td>\n",
       "      <td>271.10</td>\n",
       "      <td>181.617</td>\n",
       "      <td>288.677</td>\n",
       "      <td>287.334</td>\n",
       "    </tr>\n",
       "    <tr>\n",
       "      <th>1</th>\n",
       "      <td>269.00</td>\n",
       "      <td>267.15</td>\n",
       "      <td>177.390</td>\n",
       "      <td>281.823</td>\n",
       "      <td>281.655</td>\n",
       "    </tr>\n",
       "    <tr>\n",
       "      <th>2</th>\n",
       "      <td>268.75</td>\n",
       "      <td>267.10</td>\n",
       "      <td>178.352</td>\n",
       "      <td>282.538</td>\n",
       "      <td>282.049</td>\n",
       "    </tr>\n",
       "    <tr>\n",
       "      <th>3</th>\n",
       "      <td>268.00</td>\n",
       "      <td>267.40</td>\n",
       "      <td>178.148</td>\n",
       "      <td>280.775</td>\n",
       "      <td>280.882</td>\n",
       "    </tr>\n",
       "    <tr>\n",
       "      <th>4</th>\n",
       "      <td>268.60</td>\n",
       "      <td>268.30</td>\n",
       "      <td>178.664</td>\n",
       "      <td>282.410</td>\n",
       "      <td>282.481</td>\n",
       "    </tr>\n",
       "    <tr>\n",
       "      <th>...</th>\n",
       "      <td>...</td>\n",
       "      <td>...</td>\n",
       "      <td>...</td>\n",
       "      <td>...</td>\n",
       "      <td>...</td>\n",
       "    </tr>\n",
       "    <tr>\n",
       "      <th>4713</th>\n",
       "      <td>1531.85</td>\n",
       "      <td>1532.95</td>\n",
       "      <td>1247.510</td>\n",
       "      <td>1378.970</td>\n",
       "      <td>1380.880</td>\n",
       "    </tr>\n",
       "    <tr>\n",
       "      <th>4714</th>\n",
       "      <td>1541.75</td>\n",
       "      <td>1537.15</td>\n",
       "      <td>1258.770</td>\n",
       "      <td>1389.890</td>\n",
       "      <td>1387.430</td>\n",
       "    </tr>\n",
       "    <tr>\n",
       "      <th>4715</th>\n",
       "      <td>1536.65</td>\n",
       "      <td>1540.20</td>\n",
       "      <td>1262.960</td>\n",
       "      <td>1387.290</td>\n",
       "      <td>1392.030</td>\n",
       "    </tr>\n",
       "    <tr>\n",
       "      <th>4716</th>\n",
       "      <td>1526.55</td>\n",
       "      <td>1528.40</td>\n",
       "      <td>1251.150</td>\n",
       "      <td>1382.750</td>\n",
       "      <td>1383.510</td>\n",
       "    </tr>\n",
       "    <tr>\n",
       "      <th>4717</th>\n",
       "      <td>1523.35</td>\n",
       "      <td>1525.95</td>\n",
       "      <td>1265.010</td>\n",
       "      <td>1388.690</td>\n",
       "      <td>1391.510</td>\n",
       "    </tr>\n",
       "  </tbody>\n",
       "</table>\n",
       "<p>4682 rows × 5 columns</p>\n",
       "</div>"
      ],
      "text/plain": [
       "      USD (AM)  USD (PM)  GBP (PM)  EURO (AM)  EURO (PM)\n",
       "0       272.80    271.10   181.617    288.677    287.334\n",
       "1       269.00    267.15   177.390    281.823    281.655\n",
       "2       268.75    267.10   178.352    282.538    282.049\n",
       "3       268.00    267.40   178.148    280.775    280.882\n",
       "4       268.60    268.30   178.664    282.410    282.481\n",
       "...        ...       ...       ...        ...        ...\n",
       "4713   1531.85   1532.95  1247.510   1378.970   1380.880\n",
       "4714   1541.75   1537.15  1258.770   1389.890   1387.430\n",
       "4715   1536.65   1540.20  1262.960   1387.290   1392.030\n",
       "4716   1526.55   1528.40  1251.150   1382.750   1383.510\n",
       "4717   1523.35   1525.95  1265.010   1388.690   1391.510\n",
       "\n",
       "[4682 rows x 5 columns]"
      ]
     },
     "execution_count": 156,
     "metadata": {},
     "output_type": "execute_result"
    }
   ],
   "source": [
    "x"
   ]
  },
  {
   "cell_type": "code",
   "execution_count": 157,
   "id": "77d540fa",
   "metadata": {},
   "outputs": [
    {
     "data": {
      "text/plain": [
       "0        27110.0\n",
       "1        26715.0\n",
       "2        26710.0\n",
       "3        26740.0\n",
       "4        26830.0\n",
       "          ...   \n",
       "4713    153295.0\n",
       "4714    153715.0\n",
       "4715    154020.0\n",
       "4716    152840.0\n",
       "4717    152595.0\n",
       "Name: new_column, Length: 4682, dtype: float64"
      ]
     },
     "execution_count": 157,
     "metadata": {},
     "output_type": "execute_result"
    }
   ],
   "source": [
    "y"
   ]
  },
  {
   "cell_type": "code",
   "execution_count": 158,
   "id": "388128a5",
   "metadata": {},
   "outputs": [],
   "source": [
    "x_train, x_test, y_train, y_test= train_test_split(x, y, test_size =0.2, random_state =2)"
   ]
  },
  {
   "cell_type": "markdown",
   "id": "1ec0ada3",
   "metadata": {},
   "source": [
    "# Task 3: Develop Models & Predictions"
   ]
  },
  {
   "cell_type": "code",
   "execution_count": 159,
   "id": "db0cde58",
   "metadata": {},
   "outputs": [],
   "source": [
    "regressor = RandomForestRegressor(n_estimators = 100)"
   ]
  },
  {
   "cell_type": "code",
   "execution_count": 160,
   "id": "876a40e2",
   "metadata": {},
   "outputs": [
    {
     "data": {
      "text/plain": [
       "RandomForestRegressor()"
      ]
     },
     "execution_count": 160,
     "metadata": {},
     "output_type": "execute_result"
    }
   ],
   "source": [
    "regressor.fit(x_train , y_train)"
   ]
  },
  {
   "cell_type": "code",
   "execution_count": 161,
   "id": "d5376bf8",
   "metadata": {},
   "outputs": [],
   "source": [
    "test_data_prediction = regressor.predict(x_test)"
   ]
  },
  {
   "cell_type": "code",
   "execution_count": 162,
   "id": "3a12a4c5",
   "metadata": {},
   "outputs": [
    {
     "name": "stdout",
     "output_type": "stream",
     "text": [
      "R squared error :  0.9999983422199321\n"
     ]
    }
   ],
   "source": [
    "error_score = metrics.r2_score(y_test, test_data_prediction)\n",
    "print(\"R squared error : \", error_score)"
   ]
  },
  {
   "cell_type": "code",
   "execution_count": 163,
   "id": "5001d0d1",
   "metadata": {},
   "outputs": [],
   "source": [
    "y_test = list(y_test)"
   ]
  },
  {
   "cell_type": "code",
   "execution_count": 164,
   "id": "fad4be24",
   "metadata": {},
   "outputs": [
    {
     "data": {
      "image/png": "[encoded data removed]",
      "text/plain": [
       "<Figure size 432x288 with 1 Axes>"
      ]
     },
     "metadata": {
      "needs_background": "light"
     },
     "output_type": "display_data"
    }
   ],
   "source": [
    "plt.plot(y_test, color = 'blue', label = 'Actual Value')\n",
    "plt.plot(test_data_prediction, color= 'green', label = 'Predicted Value')\n",
    "plt.title('Actual Price vs Predicted Price')\n",
    "plt.xlabel('Number of Values')\n",
    "plt.ylabel('GBP price')\n",
    "plt.legend()\n",
    "plt.show()"
   ]
  },
  {
   "cell_type": "code",
   "execution_count": null,
   "id": "097f95c3",
   "metadata": {},
   "outputs": [],
   "source": []
  }
 ],
 "metadata": {
  "kernelspec": {
   "display_name": "Python 3 (ipykernel)",
   "language": "python",
   "name": "python3"
  },
  "language_info": {
   "codemirror_mode": {
    "name": "ipython",
    "version": 3
   },
   "file_extension": ".py",
   "mimetype": "text/x-python",
   "name": "python",
   "nbconvert_exporter": "python",
   "pygments_lexer": "ipython3",
   "version": "3.10.1"
  }
 },
 "nbformat": 4,
 "nbformat_minor": 5
}
